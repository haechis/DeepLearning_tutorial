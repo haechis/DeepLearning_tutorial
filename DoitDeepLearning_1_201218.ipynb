{
  "nbformat": 4,
  "nbformat_minor": 0,
  "metadata": {
    "colab": {
      "name": "DoitDeepLearning_1_201218.ipynb",
      "provenance": [],
      "collapsed_sections": [],
      "authorship_tag": "ABX9TyPfvxfP8rfMLJpaxVQr6wyK",
      "include_colab_link": true
    },
    "kernelspec": {
      "name": "python3",
      "display_name": "Python 3"
    }
  },
  "cells": [
    {
      "cell_type": "markdown",
      "metadata": {
        "id": "view-in-github",
        "colab_type": "text"
      },
      "source": [
        "<a href=\"https://colab.research.google.com/github/haechis/DeepLearning_tutorial/blob/main/DoitDeepLearning_1_201218.ipynb\" target=\"_parent\"><img src=\"https://colab.research.google.com/assets/colab-badge.svg\" alt=\"Open In Colab\"/></a>"
      ]
    },
    {
      "cell_type": "code",
      "metadata": {
        "id": "grZuMdTZ0EQT"
      },
      "source": [
        ""
      ],
      "execution_count": null,
      "outputs": []
    },
    {
      "cell_type": "markdown",
      "metadata": {
        "id": "hxXKSrTl0JHV"
      },
      "source": [
        "<Do it 파이썬> 책을 참고하여 공부한 내용입니다.\n",
        "\n",
        "\n",
        "기초 강의\n",
        "\n",
        "2020.12.18\n"
      ]
    },
    {
      "cell_type": "markdown",
      "metadata": {
        "id": "XPzXFE4y0QUq"
      },
      "source": [
        "머신러닝\n",
        "Machine Learning 기계학습\n",
        "학습: 데이터의 규칙을 컴퓨터 스스로 찾아내는 것\n",
        "     규칙을 찾아 수정하는 과정 , 학습 또는 훈련이라고 함\n",
        "\n",
        "\n",
        "<학습>\n",
        "지도 학습, 비지도 학습, 강화 학습\n",
        "\n",
        "지도 학습: 기록한 데이터를 바탕으로 모델을 지도 학습 방식으로 훈련하는 것\n",
        " - 훈련데이터: 입력, 타깃 // 입력: 모델이 풀어야 할 일종의 문제 // 타깃: 모델이 맞춰야 할 정답과 같은 것\n",
        "모델: 학습을 통해 만들어진 프로그램, 모델은 새로운 입력에 대한 예측을 만듬 -> 학습을 통해 예측하는 프로그램\n",
        "- 지도 학습에서는  훈련 데이터를 만드는 것이 가장 중요함 / 잘못된 입력과 타깃을 훈련하면 잘못된 모델이 생성, 데이터 개수가 너무 적으면 모델을 충분히 훈련시킬 수 없음\n",
        "- YOLO, 분류, 회귀 등\n",
        "\n",
        "비지도 학습\n",
        "타깃이 없는 훈련 데이터 / 그룹을 만들기 전까지는 어떤 그룹이 존재하는지 알 수 없음, 즉, 타깃이 없음\n",
        "- 비슷한 것끼리 모아 군집을 만듬\n",
        "- SVM , K-means clustering, GMM, DPMM ...\n",
        "\n",
        "강화 학습\n",
        "- 주어진 환경으로부터 피드백을 받아 훈련\n",
        "- 강화 학습은 머신러닝 알고리즘으로 ‘에이전트’라는 것을 훈련\n",
        "- 훈련된 에이전트는 특정 환경에 최적화된 행동을 수행하고 수행에 대한 ‘보상’과 ‘현재 상태’를 받음\n",
        "- 에이전트의 목표는 ‘최대한 많은 보상을 받는 것’ \n",
        "- 에이전트는 주어진 환경에서 아주 많은 행동을 수행하여 학습됨\n",
        "- 대표적인 알고리즘) Q-Learning , SARSA, Deep Q Network (DQN)\n",
        "- 대표적인 예) 딥마인드, 알파고\n",
        "\n",
        "규칙: 가중치와 절편을 말한다.\n",
        "1.5 x + 0.1 = y에서,\n",
        "1.5: 가중치 / x: 입력 / 0.1: 절편 / y: 타깃 // y가 1 이상이면 다음 날 비가 올 것이라 예측)\n",
        "-딥러닝은 수십 수백만 가중치와 절편을 가진다.\n",
        "\n",
        "앞의 수식이 바로 모델이다. / 모델은 ‘훈련 데이터로 학습된 머신러닝 알고리즘’을 말한다. 그리고 가중치와 절편을 합쳐 ‘모델 파라미터’라 한다.\n",
        "\n",
        "모델의 규칙을 수정할 때는?!\n",
        "예측한 것과 맞지 않는 데이터가 추가된 경우??\n",
        "- 모델 규칙을 수정하는 기준이 되는 함수를 ‘손실 함수(loss function)’이라고 한다.\n",
        "-  손실 함수의 최솟값을 효율적으로 찾는 방법이 필요하다. -> 최적화 알고리즘\n",
        "\n",
        "[딥러닝 소개]\n",
        "- 기본적으로 입력을 받아 출력함\n",
        "- (신경망과 유사) -> 자극을 받음 -> 자극 전달 -> 다음 자극 전달\n",
        "- 이러한 인공신경망을 여러 겹 쌓으면 딥러닝이 됨\n",
        "- 딥러닝은 머신러닝이 처리하기 어려운 데이터를 더 잘 처리한다.\n",
        "\n",
        "이미지 / 영상, 음성 / 소리, 텍스트 / 번역 등의 비정형 데이터는 “딥러닝”이 잘 처리\n",
        "데이터베이스, 레코드 파일, 엑셀/csv , 등의 정형 데이터는 “머신러닝”이 잘 처리\n",
        "\n",
        "\n",
        "\n"
      ]
    },
    {
      "cell_type": "markdown",
      "metadata": {
        "id": "n1mWw2xM0TvW"
      },
      "source": [
        "[넘파이 소개]\n"
      ]
    },
    {
      "cell_type": "code",
      "metadata": {
        "colab": {
          "base_uri": "https://localhost:8080/"
        },
        "id": "sY7dUzE10LTc",
        "outputId": "acc83358-2f1a-4cac-dd45-adc1d3c98bf3"
      },
      "source": [
        "my_list = [10, 'hello list', 20]\n",
        "print(my_list[1])\n",
        "print(my_list[2])\n",
        "print(my_list[0])"
      ],
      "execution_count": null,
      "outputs": [
        {
          "output_type": "stream",
          "text": [
            "hello list\n",
            "20\n",
            "10\n"
          ],
          "name": "stdout"
        }
      ]
    },
    {
      "cell_type": "code",
      "metadata": {
        "colab": {
          "base_uri": "https://localhost:8080/"
        },
        "id": "OFESxQ2d0lkE",
        "outputId": "7f5179a0-2e9c-4be9-b459-9ec32a2826ce"
      },
      "source": [
        "my_list2 = [[10,20,30], [40,50,60]]\n",
        "print(my_list2[1][2])"
      ],
      "execution_count": null,
      "outputs": [
        {
          "output_type": "stream",
          "text": [
            "60\n"
          ],
          "name": "stdout"
        }
      ]
    },
    {
      "cell_type": "markdown",
      "metadata": {
        "id": "leNRcwzj1I_K"
      },
      "source": [
        "위의 my_list1,2 는 리스트임.\n",
        "\n",
        "리스트는 다차원 배열에서 성능이 떨어짐\n",
        "\n",
        "--> numpy 사용!"
      ]
    },
    {
      "cell_type": "code",
      "metadata": {
        "colab": {
          "base_uri": "https://localhost:8080/"
        },
        "id": "V_f_AL3e1AF8",
        "outputId": "afba16de-15f2-4a9d-ed59-846bc5b30e10"
      },
      "source": [
        "# 코랩에서 넘파이 import하고 버전 확인하기\n",
        "import numpy as np\n",
        "print(np.__version__)"
      ],
      "execution_count": null,
      "outputs": [
        {
          "output_type": "stream",
          "text": [
            "1.19.4\n"
          ],
          "name": "stdout"
        }
      ]
    },
    {
      "cell_type": "code",
      "metadata": {
        "colab": {
          "base_uri": "https://localhost:8080/"
        },
        "id": "XE0iJ2f-1Zmk",
        "outputId": "07adc1f5-f7ff-4e47-a070-e60a6f997249"
      },
      "source": [
        "my_arr = np.array([[10,20,30],[40,50,60]])\n",
        "print(my_arr)"
      ],
      "execution_count": null,
      "outputs": [
        {
          "output_type": "stream",
          "text": [
            "[[10 20 30]\n",
            " [40 50 60]]\n"
          ],
          "name": "stdout"
        }
      ]
    },
    {
      "cell_type": "code",
      "metadata": {
        "colab": {
          "base_uri": "https://localhost:8080/"
        },
        "id": "mn_eUE-R1jl0",
        "outputId": "f9bd1ce6-d4e5-4225-d2a5-c571076fb084"
      },
      "source": [
        "# type() 함수로 넘파이 배열인지 확인하기\n",
        "type(my_arr)"
      ],
      "execution_count": null,
      "outputs": [
        {
          "output_type": "execute_result",
          "data": {
            "text/plain": [
              "numpy.ndarray"
            ]
          },
          "metadata": {
            "tags": []
          },
          "execution_count": 19
        }
      ]
    },
    {
      "cell_type": "code",
      "metadata": {
        "colab": {
          "base_uri": "https://localhost:8080/"
        },
        "id": "VUjjkABC1oAN",
        "outputId": "ab319155-5e04-479c-b1dd-9e5f701c7a45"
      },
      "source": [
        "my_arr[0][2]"
      ],
      "execution_count": null,
      "outputs": [
        {
          "output_type": "execute_result",
          "data": {
            "text/plain": [
              "30"
            ]
          },
          "metadata": {
            "tags": []
          },
          "execution_count": 21
        }
      ]
    },
    {
      "cell_type": "code",
      "metadata": {
        "colab": {
          "base_uri": "https://localhost:8080/"
        },
        "id": "44Rehacn1xMj",
        "outputId": "441e6c22-2e24-4375-c0f0-a91295aa32ce"
      },
      "source": [
        "# 넘파이 내장 함수 사용하기\n",
        "np.sum(my_arr)"
      ],
      "execution_count": null,
      "outputs": [
        {
          "output_type": "execute_result",
          "data": {
            "text/plain": [
              "210"
            ]
          },
          "metadata": {
            "tags": []
          },
          "execution_count": 23
        }
      ]
    },
    {
      "cell_type": "code",
      "metadata": {
        "id": "QHKMHfBR12db"
      },
      "source": [
        "# Matplotlib으로 그래프 그리기\n",
        "import matplotlib.pyplot as plt"
      ],
      "execution_count": null,
      "outputs": []
    },
    {
      "cell_type": "code",
      "metadata": {
        "colab": {
          "base_uri": "https://localhost:8080/",
          "height": 265
        },
        "id": "PehlogAa1-Nc",
        "outputId": "9ffe58fb-a84f-418a-8c0e-556f46a145ba"
      },
      "source": [
        "plt.plot([1,2,3,4,5],[1,4,9,16,25])\n",
        "plt.show()"
      ],
      "execution_count": null,
      "outputs": [
        {
          "output_type": "display_data",
          "data": {
            "image/png": "[encoded data removed]",
            "text/plain": [
              "<Figure size 432x288 with 1 Axes>"
            ]
          },
          "metadata": {
            "tags": [],
            "needs_background": "light"
          }
        }
      ]
    },
    {
      "cell_type": "code",
      "metadata": {
        "colab": {
          "base_uri": "https://localhost:8080/",
          "height": 265
        },
        "id": "clWCbfEN2Dw0",
        "outputId": "be88225e-a3b2-4c2e-d568-df28b06e0f52"
      },
      "source": [
        "plt.scatter([1,2,3,4,5],[1,4,9,16,25])\n",
        "plt.show()"
      ],
      "execution_count": null,
      "outputs": [
        {
          "output_type": "display_data",
          "data": {
            "image/png": "[encoded data removed]",
            "text/plain": [
              "<Figure size 432x288 with 1 Axes>"
            ]
          },
          "metadata": {
            "tags": [],
            "needs_background": "light"
          }
        }
      ]
    },
    {
      "cell_type": "code",
      "metadata": {
        "colab": {
          "base_uri": "https://localhost:8080/",
          "height": 265
        },
        "id": "RriAeVVJ2MSM",
        "outputId": "86d4c9e7-cad2-4cca-ad43-7285fc3686e6"
      },
      "source": [
        "# 난수 생성 및 산점도 그래프 그리기\n",
        "x = np.random.randn(1000)\n",
        "y = np.random.randn(1000)\n",
        "plt.scatter(x,y)\n",
        "plt.show()"
      ],
      "execution_count": null,
      "outputs": [
        {
          "output_type": "display_data",
          "data": {
            "image/png": "[encoded data removed]",
            "text/plain": [
              "<Figure size 432x288 with 1 Axes>"
            ]
          },
          "metadata": {
            "tags": [],
            "needs_background": "light"
          }
        }
      ]
    }
  ]
}