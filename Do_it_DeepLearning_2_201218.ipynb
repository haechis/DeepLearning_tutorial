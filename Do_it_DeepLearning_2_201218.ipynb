{
  "nbformat": 4,
  "nbformat_minor": 0,
  "metadata": {
    "colab": {
      "name": "Do_it_DeepLearning_2_201218.ipynb",
      "provenance": [],
      "collapsed_sections": [],
      "authorship_tag": "ABX9TyPhqop1iNxbomBqIXg1/SR3",
      "include_colab_link": true
    },
    "kernelspec": {
      "name": "python3",
      "display_name": "Python 3"
    }
  },
  "cells": [
    {
      "cell_type": "markdown",
      "metadata": {
        "id": "view-in-github",
        "colab_type": "text"
      },
      "source": [
        "<a href=\"https://colab.research.google.com/github/haechis/DeepLearning_tutorial/blob/main/Do_it_DeepLearning_2_201218.ipynb\" target=\"_parent\"><img src=\"https://colab.research.google.com/assets/colab-badge.svg\" alt=\"Open In Colab\"/></a>"
      ]
    },
    {
      "cell_type": "code",
      "metadata": {
        "id": "ufHvkvTR2kuW"
      },
      "source": [
        ""
      ],
      "execution_count": null,
      "outputs": []
    },
    {
      "cell_type": "markdown",
      "metadata": {
        "id": "5Oi2nHXC2umD"
      },
      "source": [
        "Do it Deep Learning 제 3장\n",
        "\n",
        "머신러닝의 기초를 다집니다. \n",
        "- 수치 예측\n",
        "\n"
      ]
    },
    {
      "cell_type": "markdown",
      "metadata": {
        "id": "KV5u8CLA3FKH"
      },
      "source": [
        "1차 함수로 이해하는 선형 회귀\n",
        "\n",
        "\n",
        "y = ax + b\n",
        "\n",
        "\n",
        "a: 기울기 , b: 절편\n",
        "\n",
        "@ 선형회귀는 기울기와 절편을 찾아준다!\n",
        "\n",
        "\n",
        "x와 y가 주어졌을 때, a와 b를 찾는 것이 선형회귀\n"
      ]
    },
    {
      "cell_type": "code",
      "metadata": {
        "id": "ODKtnaMc20iZ"
      },
      "source": [
        "# 사이킷런에서 당뇨병 환자 데이터 가져오기\n",
        "# 사이킷런의 datasets 모듈에 있는 load_diabetes() 함수를 임포트, 매개변수 값을 넣지 않고 함수 호출 -> diabetes에 당뇨병 데이터 저장\n",
        "from sklearn.datasets import load_diabetes\n",
        "diabetes = load_diabetes()\n",
        "\n",
        "#diabetes 변수에 저장된 값의 자료형은 파이썬의 dictionary와 유사한 Bunch 클래스이다."
      ],
      "execution_count": null,
      "outputs": []
    },
    {
      "cell_type": "code",
      "metadata": {
        "colab": {
          "base_uri": "https://localhost:8080/"
        },
        "id": "gL8KHdXe37mk",
        "outputId": "14bcea5e-50a2-425f-dcee-35c0bf2917b0"
      },
      "source": [
        "# 입력과 타깃 데이터의 크기 확인하기\n",
        "\n",
        "# 샘플 데이터\n",
        "print(diabetes.data.shape)\n",
        "\n",
        "# 타깃 데이터 (1차원 배열/행벡터)\n",
        "print(diabetes.target.shape)"
      ],
      "execution_count": null,
      "outputs": [
        {
          "output_type": "stream",
          "text": [
            "(442, 10)\n",
            "(442,)\n"
          ],
          "name": "stdout"
        }
      ]
    },
    {
      "cell_type": "code",
      "metadata": {
        "colab": {
          "base_uri": "https://localhost:8080/"
        },
        "id": "P6tpsCX54LXL",
        "outputId": "38b62019-dda5-4191-cf05-dd3660263422"
      },
      "source": [
        "# 샘플 즉, 입력 데이터의 특성은 다른 말로 속성, 독립 변수, 설명 변수 등으로 부른다.\n",
        "# diabetes.data의 행을 나타내는 것이다.\n",
        "\n",
        "# 입력 데이터를 자세히 디다 보자.\n",
        "# diabetes.data에 저장된 입력 데이터의 일부를 출력\n",
        "diabetes.data[0:3]"
      ],
      "execution_count": null,
      "outputs": [
        {
          "output_type": "execute_result",
          "data": {
            "text/plain": [
              "array([[ 0.03807591,  0.05068012,  0.06169621,  0.02187235, -0.0442235 ,\n",
              "        -0.03482076, -0.04340085, -0.00259226,  0.01990842, -0.01764613],\n",
              "       [-0.00188202, -0.04464164, -0.05147406, -0.02632783, -0.00844872,\n",
              "        -0.01916334,  0.07441156, -0.03949338, -0.06832974, -0.09220405],\n",
              "       [ 0.08529891,  0.05068012,  0.04445121, -0.00567061, -0.04559945,\n",
              "        -0.03419447, -0.03235593, -0.00259226,  0.00286377, -0.02593034]])"
            ]
          },
          "metadata": {
            "tags": []
          },
          "execution_count": 4
        }
      ]
    },
    {
      "cell_type": "code",
      "metadata": {
        "colab": {
          "base_uri": "https://localhost:8080/"
        },
        "id": "PzJZQRhh4msz",
        "outputId": "c78ab276-6dab-44e3-cac0-149ad438b41c"
      },
      "source": [
        "# 타깃 데이터 자세히 보기\n",
        "diabetes.target[:3]"
      ],
      "execution_count": null,
      "outputs": [
        {
          "output_type": "execute_result",
          "data": {
            "text/plain": [
              "array([151.,  75., 141.])"
            ]
          },
          "metadata": {
            "tags": []
          },
          "execution_count": 5
        }
      ]
    },
    {
      "cell_type": "code",
      "metadata": {
        "colab": {
          "base_uri": "https://localhost:8080/",
          "height": 279
        },
        "id": "lJsFpYLd4z6j",
        "outputId": "1a752dc4-be38-44e2-eb82-b0d8a70c0aed"
      },
      "source": [
        "import matplotlib.pyplot as plt\n",
        "plt.scatter(diabetes.data[:,2],diabetes.target)\n",
        "plt.xlabel('x')\n",
        "plt.ylabel('y')\n",
        "plt.show()"
      ],
      "execution_count": null,
      "outputs": [
        {
          "output_type": "display_data",
          "data": {
            "image/png": "[encoded data removed]",
            "text/plain": [
              "<Figure size 432x288 with 1 Axes>"
            ]
          },
          "metadata": {
            "tags": [],
            "needs_background": "light"
          }
        }
      ]
    },
    {
      "cell_type": "code",
      "metadata": {
        "id": "3Q8Tpkcq5Ggj"
      },
      "source": [
        "# 입력 데이터 중에서 3번째 요소가 정비례 관계에 있는 것을 확인하였다.\n",
        "# 다음과 같이 저장해보자.\n",
        "x = diabetes.data[:,2]\n",
        "y = diabetes.target\n"
      ],
      "execution_count": null,
      "outputs": []
    },
    {
      "cell_type": "markdown",
      "metadata": {
        "id": "7QVX0t0G5mzC"
      },
      "source": [
        "# 경사하강법 Gradient Descent\n",
        "\n",
        "모델이 데이터를 잘 표현할 수 있도록 기울기(변화율)를 사용하여 모델을 조금씩 조정하는 최적화 알고리즘.\n",
        "\n",
        "<훈련 데이터에 잘 맞는 w(기울기) b(절편)를 찾는 방법>\n",
        "- 무작위로 w,b 설정\n",
        "- x에서 샘플 하나를 선택하여 y_hat 계산(무작위로 모델 예측)\n",
        "- y_hat과 선택한 샘플의 진짜 y를 비교\n",
        "- y_hat과 y가 더 가까워지도록 w,b 조정\n",
        "- 모든 샘플을 처리할 때까지 위 과정을 반복\n",
        "\n"
      ]
    },
    {
      "cell_type": "code",
      "metadata": {
        "id": "haMxf6mf5lzL"
      },
      "source": [
        "# w, b 초기화\n",
        "w = 1.0\n",
        "b = 1.0\n"
      ],
      "execution_count": null,
      "outputs": []
    },
    {
      "cell_type": "code",
      "metadata": {
        "colab": {
          "base_uri": "https://localhost:8080/"
        },
        "id": "7cdoXKRf6Y-r",
        "outputId": "aa49ab75-39db-42f1-f663-8d578f5a84c6"
      },
      "source": [
        "# 훈련 데이터의 첫 번째 샘플 데이터 사용\n",
        "y_hat = x[0]*w + b\n",
        "print(y_hat)"
      ],
      "execution_count": null,
      "outputs": [
        {
          "output_type": "stream",
          "text": [
            "1.0616962065186886\n"
          ],
          "name": "stdout"
        }
      ]
    },
    {
      "cell_type": "code",
      "metadata": {
        "colab": {
          "base_uri": "https://localhost:8080/"
        },
        "id": "wrKaVk_O6dQz",
        "outputId": "12c7a4cc-397c-4486-b41c-231090ac1e1d"
      },
      "source": [
        "# 타깃과 예측 데이터 비교\n",
        "print(y[0])\n"
      ],
      "execution_count": null,
      "outputs": [
        {
          "output_type": "stream",
          "text": [
            "151.0\n"
          ],
          "name": "stdout"
        }
      ]
    },
    {
      "cell_type": "code",
      "metadata": {
        "colab": {
          "base_uri": "https://localhost:8080/"
        },
        "id": "4IjNRpnr6k4z",
        "outputId": "8d2d770e-8029-413c-cc13-5b70bb320ab3"
      },
      "source": [
        "# w 조정하여 예측값 바꾸기\n",
        "# 먼저, 기울기 w를 조정해보자\n",
        "w_inc = w + 0.1\n",
        "y_hat_inc = x[0]*w_inc + b\n",
        "print(y_hat_inc)"
      ],
      "execution_count": null,
      "outputs": [
        {
          "output_type": "stream",
          "text": [
            "1.0678658271705574\n"
          ],
          "name": "stdout"
        }
      ]
    },
    {
      "cell_type": "code",
      "metadata": {
        "colab": {
          "base_uri": "https://localhost:8080/"
        },
        "id": "obZj3hxd6wDK",
        "outputId": "a5c71566-12bb-4c0f-a5d4-4499dc64aeec"
      },
      "source": [
        "# w 값 조정한 후 예측값 증가 정도 확인하기\n",
        "# w가 0.1 증가했을 때 y_hat이 얼마나 증가했는지 계산해보자.\n",
        "w_rate = (y_hat_inc-y_hat)/(w_inc-w) # 가중치 증가량 분의 예측치 증가량\n",
        "print(w_rate)"
      ],
      "execution_count": null,
      "outputs": [
        {
          "output_type": "stream",
          "text": [
            "0.061696206518688734\n"
          ],
          "name": "stdout"
        }
      ]
    },
    {
      "cell_type": "code",
      "metadata": {
        "id": "X5S21mNy68zj"
      },
      "source": [
        "# 위에 식들에서, 변화율을 수식으로 정리하면, 변화율은 결국 훈련 데이터의 첫 번째 샘플인 x[0]이다.\n"
      ],
      "execution_count": null,
      "outputs": []
    },
    {
      "cell_type": "code",
      "metadata": {
        "colab": {
          "base_uri": "https://localhost:8080/"
        },
        "id": "el8LUAcR7UMb",
        "outputId": "a2cb47ef-6bd2-4071-87b2-f2ff88749160"
      },
      "source": [
        "# 변화율로 가중치 업데이트 하기\n",
        "w_new = w + w_rate\n",
        "print(w_new)"
      ],
      "execution_count": null,
      "outputs": [
        {
          "output_type": "stream",
          "text": [
            "1.0616962065186888\n"
          ],
          "name": "stdout"
        }
      ]
    },
    {
      "cell_type": "code",
      "metadata": {
        "colab": {
          "base_uri": "https://localhost:8080/"
        },
        "id": "823Vq7Pb7iTS",
        "outputId": "deea4ab8-756c-40d9-bc46-4b18d048e38b"
      },
      "source": [
        "# 변화율로 절편 업데이트하기\n",
        "# 절편 b에 대한 변화율을 구한 다음 변화율로 b를 업데이트해보자.\n",
        "# b를 0.1만큼 증가시킨 후 y_hat이 얼마나 증가했는지 계산하고 변화율도 계산해보자\n",
        "b_inc = b + 0.1\n",
        "y_hat_inc = x[0] * w + b_inc\n",
        "print(y_hat_inc)\n",
        "\n",
        "b_rate = (y_hat_inc - y_hat) / (b_inc - b)\n",
        "print(b_rate)"
      ],
      "execution_count": null,
      "outputs": [
        {
          "output_type": "stream",
          "text": [
            "1.1616962065186887\n",
            "1.0\n"
          ],
          "name": "stdout"
        }
      ]
    },
    {
      "cell_type": "code",
      "metadata": {
        "colab": {
          "base_uri": "https://localhost:8080/"
        },
        "id": "i4cd3r2aVNZt",
        "outputId": "c0e2b4f1-7700-4996-9b92-ba2dd5e9f56b"
      },
      "source": [
        "# 위를 보면, 증가율이 1이 된다. \n",
        "# 당연히, 절편이 1 증가하면 모든 y가 1씩 증가하는 거겠지\n",
        "# 즉, b를 업데이트하기 위해서는 변화율이 1이므로 단순히 1을 더하면 된다.\n",
        "b_new = b + 1\n",
        "print(b_new)"
      ],
      "execution_count": null,
      "outputs": [
        {
          "output_type": "stream",
          "text": [
            "2.0\n"
          ],
          "name": "stdout"
        }
      ]
    },
    {
      "cell_type": "markdown",
      "metadata": {
        "id": "B39HT73TVkR3"
      },
      "source": [
        "여기까지,\n",
        "\n",
        "y_hat을 증가시켜야 하는 상황을 가정하고 w와 b를 업데이트 해보았다.\n",
        "\n",
        "- 그런데 w와 b를 더 큰 폭으로 수정해야한다면?\n",
        "\n",
        "- y_hat이 y보다 커지면 y_hat을 감소시키지 못한다?\n",
        "\n",
        "이후에는, w와 b를 좀 더 능동적으로 업데이트하는 방법인 오차 역전파에 대하여 알아보자"
      ]
    },
    {
      "cell_type": "markdown",
      "metadata": {
        "id": "GmcgYhHkV1GH"
      },
      "source": [
        "# 오차 역전파로 가중치와 절편을 더 적절하게 업데이트 한다.\n",
        "\n",
        "오차 역전파(back propagation)는 y_hat과 y의 차이를 이용하여 w와 b를 업데이트한다.\n",
        "\n",
        "이 방법은 오차가 연이어 전파되는 모습으로 수행된다.\n",
        "\n",
        "여기서는, y에서 y_hat을 뺀 오차의 양을 변화율에 곱하는 방법으로 w를 업데이트 해보자. 이렇게 하면 y_hat이 y보다 많이 작은 경우 w와 b를 많이 바꿀 수 있겠다.\n",
        "\n",
        "또, y_hat이 y를 지나치면 w와 b의 방향도 바꾼다."
      ]
    },
    {
      "cell_type": "code",
      "metadata": {
        "colab": {
          "base_uri": "https://localhost:8080/"
        },
        "id": "SsejbcF-Vg_e",
        "outputId": "63cd15a2-175b-4a4d-c642-eade3643684c"
      },
      "source": [
        "# 오차와 변화율을 곱하여 가중치 업데이트 하기!\n",
        "# 먼저 x[0]일 때 w의 변화율과 b의 변화율에 오차를 곱한 다음 업데이트된 w_new와 b_new를 출력해보자.\n",
        "\n",
        "err = y[0] - y_hat\n",
        "w_new = w + w_rate*err\n",
        "b_new = b + b_rate*err\n",
        "\n",
        "print(w_new, b_new)"
      ],
      "execution_count": null,
      "outputs": [
        {
          "output_type": "stream",
          "text": [
            "10.250624555904514 150.9383037934813\n"
          ],
          "name": "stdout"
        }
      ]
    },
    {
      "cell_type": "code",
      "metadata": {
        "colab": {
          "base_uri": "https://localhost:8080/"
        },
        "id": "hSHaJ1u_Wc1v",
        "outputId": "a557d5ed-f414-4ff0-ff07-21d532483fb6"
      },
      "source": [
        "# 두 번째 샘플 x[1]을 사용하여 오차를 구하고 새로운 w와 b를 구해보자. \n",
        "# 앞에서 w_rate 식을 정리했을 때 샘플값과 같아진다는 것을 알았으므로 앞으로는 w_rate를 별도로 계산하지 않고!\n",
        "# 샘플값을 그대로 사용한다.\n",
        "y_hat = x[1] * w_new + b_new\n",
        "err = y[1] - y_hat\n",
        "\n",
        "w_rate = x[1]\n",
        "\n",
        "w_new = w_new +w_rate*err\n",
        "b_new = b_new + b_rate*err\n",
        "\n",
        "print(w_new,b_new)"
      ],
      "execution_count": null,
      "outputs": [
        {
          "output_type": "stream",
          "text": [
            "14.132317616381767 75.52764127612664\n"
          ],
          "name": "stdout"
        }
      ]
    },
    {
      "cell_type": "code",
      "metadata": {
        "colab": {
          "base_uri": "https://localhost:8080/"
        },
        "id": "sLLSwoOQW9B-",
        "outputId": "fbff4d45-d89f-408e-da63-dc411fb9bf13"
      },
      "source": [
        "# 이런식으로 전체샘플에 대하여 반복해보자\n",
        "\n",
        "# zip() 함수는 여러 개의 배열에서 동시에 요소를 하나씩 꺼내준다.\n",
        "w = 1.0\n",
        "b = 1.0\n",
        "for x_i, y_i in zip(x,y):\n",
        "  y_hat = x_i*w+b\n",
        "  w_rate = x_i\n",
        "  \n",
        "  err = y_i - y_hat\n",
        "\n",
        "  w = w + w_rate * err\n",
        "  b = b + 1 * err\n",
        "\n",
        "print(w,b)"
      ],
      "execution_count": null,
      "outputs": [
        {
          "output_type": "stream",
          "text": [
            "587.8654539985689 99.40935564531424\n"
          ],
          "name": "stdout"
        }
      ]
    },
    {
      "cell_type": "code",
      "metadata": {
        "colab": {
          "base_uri": "https://localhost:8080/",
          "height": 279
        },
        "id": "yXEqyghlXb5G",
        "outputId": "b571b8b6-d67d-4004-9f6f-b771c067033b"
      },
      "source": [
        "# 위에서 구한 w,b를 이용하여 그래프를 그려보자\n",
        "# 과연 잘 구한 것일까?!\n",
        "plt.scatter(x,y)\n",
        "pt1 = (-0.1, -0.1*w + b)\n",
        "pt2 = (0.15,0.15*w+b)\n",
        "\n",
        "plt.plot([pt1[0],pt2[0]], [pt2[0],pt2[1]])\n",
        "plt.xlabel('x')\n",
        "plt.ylabel('y')\n",
        "plt.show()"
      ],
      "execution_count": null,
      "outputs": [
        {
          "output_type": "display_data",
          "data": {
            "image/png": "[encoded data removed]",
            "text/plain": [
              "<Figure size 432x288 with 1 Axes>"
            ]
          },
          "metadata": {
            "tags": [],
            "needs_background": "light"
          }
        }
      ]
    },
    {
      "cell_type": "code",
      "metadata": {
        "colab": {
          "base_uri": "https://localhost:8080/"
        },
        "id": "OPimB7ROYOX2",
        "outputId": "3efbb80d-b8fd-4e57-e7c9-c50c27de55c4"
      },
      "source": [
        "# 좀 더 개선하기 위하여 여러 에포크를 반복하자\n",
        "# 보통 경사 하강법에서는 주어진 훈련 데이터로 학습을 여러 번 반복한다.\n",
        "# 우선 100번 반복해보자\n",
        "\n",
        "w = 1.0 \n",
        "b = 1.0\n",
        "for i in range(100):\n",
        "  for x_i , y_i in zip(x,y):\n",
        "      y_hat = w*x_i + b\n",
        "\n",
        "      err = y_i - y_hat\n",
        "\n",
        "      w_rate = x_i\n",
        "\n",
        "      w = w + w_rate*err\n",
        "      b = b + 1*err\n",
        "\n",
        "print(w,b)\n"
      ],
      "execution_count": null,
      "outputs": [
        {
          "output_type": "stream",
          "text": [
            "913.5973364345905 123.39414383177204\n"
          ],
          "name": "stdout"
        }
      ]
    },
    {
      "cell_type": "code",
      "metadata": {
        "colab": {
          "base_uri": "https://localhost:8080/",
          "height": 279
        },
        "id": "51omOBy2Yx6N",
        "outputId": "0ccbabef-8fd3-481d-d5e9-215fd6a154ad"
      },
      "source": [
        "# 100번 반복한것을 그려보자\n",
        "plt.scatter(x,y)\n",
        "pt1 = (-0.1,-0.1*w + b)\n",
        "pt2 = (0.15,0.15*w + b)\n",
        "plt.plot([pt1[0],pt2[0]],[pt1[1],pt2[1]])\n",
        "plt.xlabel('x')\n",
        "plt.ylabel('y')\n",
        "plt.show()"
      ],
      "execution_count": null,
      "outputs": [
        {
          "output_type": "display_data",
          "data": {
            "image/png": "[encoded data removed]",
            "text/plain": [
              "<Figure size 432x288 with 1 Axes>"
            ]
          },
          "metadata": {
            "tags": [],
            "needs_background": "light"
          }
        }
      ]
    },
    {
      "cell_type": "markdown",
      "metadata": {
        "id": "berIMlhhZesa"
      },
      "source": [
        "이렇게 해서 찾은 모델\n",
        "\n",
        "=> y_hat = 913.6x + 123.4\n",
        "\n"
      ]
    },
    {
      "cell_type": "code",
      "metadata": {
        "colab": {
          "base_uri": "https://localhost:8080/"
        },
        "id": "IGrm7_ueZbZt",
        "outputId": "52a673e6-1474-4af4-8f5b-cf89f5321dbb"
      },
      "source": [
        "# 만약에 입력 x에 없던 새로운 데이터가 발생했다고 가정해보자.\n",
        "# 예측값을 얻으려면 어떻게 해야할까?\n",
        "x_new = 0.18\n",
        "y_pred = x_new * w + b\n",
        "print(y_pred)"
      ],
      "execution_count": null,
      "outputs": [
        {
          "output_type": "stream",
          "text": [
            "287.8416643899983\n"
          ],
          "name": "stdout"
        }
      ]
    },
    {
      "cell_type": "code",
      "metadata": {
        "colab": {
          "base_uri": "https://localhost:8080/",
          "height": 279
        },
        "id": "eH5zkzbnZtOe",
        "outputId": "40753cf7-a164-4395-b759-a9900b0459dd"
      },
      "source": [
        "plt.scatter(x,y)\n",
        "plt.scatter(x_new,y_pred)\n",
        "plt.xlabel('x')\n",
        "plt.ylabel('y')\n",
        "plt.show()"
      ],
      "execution_count": null,
      "outputs": [
        {
          "output_type": "display_data",
          "data": {
            "image/png": "[encoded data removed]",
            "text/plain": [
              "<Figure size 432x288 with 1 Axes>"
            ]
          },
          "metadata": {
            "tags": [],
            "needs_background": "light"
          }
        }
      ]
    },
    {
      "cell_type": "markdown",
      "metadata": {
        "id": "vfY6VMM3nrLL"
      },
      "source": [
        "# 03-3 손실 ㅎ마수와 경사 하강법의 관계\n",
        "\n",
        "앞서 구현한 경사 하강법이 실제로 어떤 개념에 의해 사용되었는지 알아보자.\n",
        "\n",
        "경사 하강법을 좀 더 기술적으로 표현하면 '어떤 손실 함수(loss function)'가 정의되었을 때 손실 함수의 값이 최소가 되는 지점을 찾아가는 바업이다. \n",
        "\n",
        "여기서 손실 함수란 말 그대로 예상한 값과 실제 타깃값의 차이를 함수로 정의한 것이다.\n",
        "\n",
        "앞서 사용한 '오차를 변화율에 곱하여 가중치와 절편 업데이트'는 '제곱 오차'라는 손실 함수를 미분한 것과 같다.\n",
        "\n",
        "<손실 함수>\n",
        "\n",
        "제곱오차: 타깃값과 예측값 차이의 제곱\n",
        "\n",
        "이때 제곱오차가 최소가 되면 산점도 그래프를 가장 잘 표현한 직선이 된다.\n",
        "\n",
        "제곱 오차 함수의 최솟값을 알아내려면 기울기에 따라 함수의 값이 낮은 쪽으로 이동해야 한다. 기울기를 구하려면 제곱 오차를 가중치나 절편에 대해 미분하면 된다. \n",
        "\n",
        "\n",
        "<제곱 오차를 가중치와 절편에 대하여 미분>\n",
        "\n",
        "SE = Squared Error\n",
        "\n",
        "aSE/aw = -2(y-y_hat)*x \n",
        " \n",
        "보통, \n",
        "\n",
        "aSE/aw = -(y-y_hat)*x로 쓴다.\n",
        "\n",
        "가중치 업데이트\n",
        "\n",
        "x = x -aSE/aw = w + (y-y_hat)*x\n",
        "\n",
        "이것은 앞서 봤던 w+w_rate*err와 같다!\n",
        "\n",
        "<제곱 오차를 가중치와 절편에 대하여 미분 - 2>\n",
        "\n",
        "aSE/ab = -(y-y_hat)*1\n",
        "\n",
        "마찬가지로, 앞서 했던 b = b + 1 * err와 같다!\n",
        "\n",
        "\n",
        "\n",
        "앞으로, 손실 함수에 대해 일일이 변화율의 값을 계산하는 대신 편미분을 사용하여 변화율을 계산한다. 그리고 변화율은 인공지능 분야에서 그레이디언트(gradient,경사)라고 한다! like 그레디언트가 전파된다. 그레디언트가 손실된다.\n",
        "\n"
      ]
    },
    {
      "cell_type": "markdown",
      "metadata": {
        "id": "O5t_bgH8pj1p"
      },
      "source": [
        "# 선형 회귀를 위한 뉴런을 만듭니다.\n",
        "\n",
        "앞에서 만든 경사 하강법 알고리즘을 Neuron이라는 이름의 파이썬 클래스로 만들어보자! 즉, 뉴런을 만들어보자.\n",
        "\n",
        "\n",
        "앞으로 배우게 될 알고리즘들은 이 클래스를 기반으로 확장하게 된다.\n"
      ]
    },
    {
      "cell_type": "code",
      "metadata": {
        "id": "AgcnPCuXZ0n1"
      },
      "source": [
        "# Neuron 클래스 만들기\n",
        "\n",
        "# 먼저, Neuron 클래스의 전체 구조.\n",
        "\n",
        "class Neuron:\n",
        "\n",
        "  def __init__(self):\n",
        "    # 초기화 작업을 수행한다.\n",
        "    self.w = 1.0\n",
        "    self.b = 1.0\n",
        "\n",
        "  # 필요한 메서드를 추가\n",
        "\n",
        "  ## 정방향 계산\n",
        "  def forpass(self,x):\n",
        "  # def forpass(self,x) -> 1차 함수를 통해 예측값을 계산\n",
        "  # 가중치와 절편은 인스턴스 변수 w,b 사용\n",
        "    y_hat = x*self.w + self.b\n",
        "    return y_hat\n",
        "\n",
        "  ## 역방향 계산\n",
        "  def backprop(self, x, err):\n",
        "    # y_hat과 y의 차이 -> 역방향 계산\n",
        "    # 가중치 -> aSE/aw = -(y-y_hat)x\n",
        "    w_grad = x * err\n",
        "    b_grad = 1 * err\n",
        "    return w_grad, b_grad\n",
        "\n",
        "  # 이제 Neuron 클래스를 이용하여 가중치와 절편을 업데이트 하는 fit() 메서드를 구현해보자\n",
        "  # 이 메서드는 오차 역잔파를 학습하여 for문으로 구현했던 코드와 매우 유사하다.\n",
        "  def fit(self, x, y, epochs = 100):\n",
        "    for i in range(epochs):\n",
        "      for x_i, y_i in zip(x,y):\n",
        "        y_hat = self.forpass(x_i)\n",
        "        err = -(y_i-y_hat)\n",
        "        w_grad, b_grad = self.backprop(x_i,err)\n",
        "        self.w -= w_grad\n",
        "        self.b -= b_grad"
      ],
      "execution_count": null,
      "outputs": []
    },
    {
      "cell_type": "code",
      "metadata": {
        "id": "tBYDqtBOr3rp"
      },
      "source": [
        "# 모델 훈련하기(학습시키기)\n",
        "# 실제 모델을 만들고, 훈련해보기\n",
        "neuron = Neuron( )\n",
        "neuron.fit(x,y)\n"
      ],
      "execution_count": null,
      "outputs": []
    },
    {
      "cell_type": "code",
      "metadata": {
        "colab": {
          "base_uri": "https://localhost:8080/",
          "height": 279
        },
        "id": "UqbmpoE9sBdZ",
        "outputId": "61f476bc-4582-4b5e-81bc-1636c40babaa"
      },
      "source": [
        "# 학습 이후 모델의 가중치와 절편 확인하기\n",
        "# neuron.w & neuron.b\n",
        "plt.scatter(x,y)\n",
        "pt1 = (-0.1, -0.1*neuron.w + neuron.b)\n",
        "pt2 = (0.15, 0.15*neuron.w + neuron.b)\n",
        "plt.plot([pt1[0],pt2[0]],[pt1[1],pt2[1]])\n",
        "plt.xlabel('x')\n",
        "plt.ylabel('y')\n",
        "plt.show()"
      ],
      "execution_count": null,
      "outputs": [
        {
          "output_type": "display_data",
          "data": {
            "image/png": "[encoded data removed]",
            "text/plain": [
              "<Figure size 432x288 with 1 Axes>"
            ]
          },
          "metadata": {
            "tags": [],
            "needs_background": "light"
          }
        }
      ]
    },
    {
      "cell_type": "code",
      "metadata": {
        "id": "IoA9Im2GtL-z"
      },
      "source": [
        ""
      ],
      "execution_count": null,
      "outputs": []
    }
  ]
}