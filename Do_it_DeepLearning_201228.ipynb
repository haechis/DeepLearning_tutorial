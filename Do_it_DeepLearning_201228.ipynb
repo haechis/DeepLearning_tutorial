{
  "nbformat": 4,
  "nbformat_minor": 0,
  "metadata": {
    "colab": {
      "name": "Do_it_DeepLearning_201228.ipynb",
      "provenance": [],
      "authorship_tag": "ABX9TyNxReIGxgsvXDoiggZOHSLq",
      "include_colab_link": true
    },
    "kernelspec": {
      "name": "python3",
      "display_name": "Python 3"
    }
  },
  "cells": [
    {
      "cell_type": "markdown",
      "metadata": {
        "id": "view-in-github",
        "colab_type": "text"
      },
      "source": [
        "<a href=\"https://colab.research.google.com/github/haechis/DeepLearning_tutorial/blob/main/Do_it_DeepLearning_201228.ipynb\" target=\"_parent\"><img src=\"https://colab.research.google.com/assets/colab-badge.svg\" alt=\"Open In Colab\"/></a>"
      ]
    },
    {
      "cell_type": "markdown",
      "metadata": {
        "id": "3JdhcPITiO1t"
      },
      "source": [
        "# 06장, 다층 신경망\n"
      ]
    },
    {
      "cell_type": "code",
      "metadata": {
        "id": "kylQ8K5rh8SV"
      },
      "source": [
        "class SingleLayer:\n",
        "    \n",
        "    def __init__(self, learning_rate=0.1, l1=0, l2=0):\n",
        "        self.w = None              # 가중치\n",
        "        self.b = None              # 절편\n",
        "        self.losses = []           # 훈련 손실\n",
        "        self.val_losses = []       # 검증 손실\n",
        "        self.w_history = []        # 가중치 기록\n",
        "        self.lr = learning_rate    # 학습률\n",
        "        self.l1 = l1               # L1 손실 하이퍼파라미터\n",
        "        self.l2 = l2               # L2 손실 하이퍼파라미터\n",
        "\n",
        "    def forpass(self, x):\n",
        "        z = np.dot(x, self.w) + self.b        # 선형 출력을 계산합니다.\n",
        "        return z\n",
        "\n",
        "    def backprop(self, x, err):\n",
        "        m = len(x)\n",
        "        w_grad = np.dot(x.T, err) / m         # 가중치에 대한 그래디언트를 계산합니다.\n",
        "        b_grad = np.sum(err) / m              # 절편에 대한 그래디언트를 계산합니다.\n",
        "        return w_grad, b_grad\n",
        "\n",
        "    def activation(self, z):\n",
        "        z = np.clip(z, -100, None)            # 안전한 np.exp() 계산을 위해\n",
        "        a = 1 / (1 + np.exp(-z))              # 시그모이드 계산\n",
        "        return a\n",
        "        \n",
        "    def fit(self, x, y, epochs=100, x_val=None, y_val=None):\n",
        "        y = y.reshape(-1, 1)                  # 타깃을 열 벡터로 바꿉니다.\n",
        "        y_val = y_val.reshape(-1, 1)\n",
        "        m = len(x)                            # 샘플 개수를 저장합니다.\n",
        "        self.w = np.ones((x.shape[1], 1))     # 가중치를 초기화합니다.\n",
        "        self.b = 0                            # 절편을 초기화합니다.\n",
        "        self.w_history.append(self.w.copy())  # 가중치를 기록합니다.\n",
        "        # epochs만큼 반복합니다.\n",
        "        for i in range(epochs):\n",
        "            z = self.forpass(x)               # 정방향 계산을 수행합니다.\n",
        "            a = self.activation(z)            # 활성화 함수를 적용합니다.\n",
        "            err = -(y - a)                    # 오차를 계산합니다.\n",
        "            # 오차를 역전파하여 그래디언트를 계산합니다.\n",
        "            w_grad, b_grad = self.backprop(x, err)\n",
        "            # 그래디언트에서 페널티 항의 미분 값을 더합니다.\n",
        "            w_grad += (self.l1 * np.sign(self.w) + self.l2 * self.w) / m\n",
        "            # 가중치와 절편을 업데이트합니다.\n",
        "            self.w -= self.lr * w_grad\n",
        "            self.b -= self.lr * b_grad\n",
        "            # 가중치를 기록합니다.\n",
        "            self.w_history.append(self.w.copy())\n",
        "            # 안전한 로그 계산을 위해 클리핑합니다.\n",
        "            a = np.clip(a, 1e-10, 1-1e-10)\n",
        "            # 로그 손실과 규제 손실을 더하여 리스트에 추가합니다.\n",
        "            loss = np.sum(-(y*np.log(a) + (1-y)*np.log(1-a)))\n",
        "            self.losses.append((loss + self.reg_loss()) / m)\n",
        "            # 검증 세트에 대한 손실을 계산합니다.\n",
        "            self.update_val_loss(x_val, y_val)\n",
        "    \n",
        "    def predict(self, x):\n",
        "        z = self.forpass(x)      # 정방향 계산을 수행합니다.\n",
        "        return z > 0             # 스텝 함수를 적용합니다.\n",
        "    \n",
        "    def score(self, x, y):\n",
        "        # 예측과 타깃 열 벡터를 비교하여 True의 비율을 반환합니다.\n",
        "        return np.mean(self.predict(x) == y.reshape(-1, 1))\n",
        "    \n",
        "    def reg_loss(self):\n",
        "        # 가중치에 규제를 적용합니다.\n",
        "        return self.l1 * np.sum(np.abs(self.w)) + self.l2 / 2 * np.sum(self.w**2)\n",
        "    \n",
        "    def update_val_loss(self, x_val, y_val):\n",
        "        z = self.forpass(x_val)            # 정방향 계산을 수행합니다.\n",
        "        a = self.activation(z)             # 활성화 함수를 적용합니다.\n",
        "        a = np.clip(a, 1e-10, 1-1e-10)     # 출력 값을 클리핑합니다.\n",
        "        # 로그 손실과 규제 손실을 더하여 리스트에 추가합니다.\n",
        "        val_loss = np.sum(-(y_val*np.log(a) + (1-y_val)*np.log(1-a)))\n",
        "        self.val_losses.append((val_loss + self.reg_loss()) / len(y_val))"
      ],
      "execution_count": null,
      "outputs": []
    },
    {
      "cell_type": "markdown",
      "metadata": {
        "id": "rCSLBS_jiSnU"
      },
      "source": [
        "# 2개의 층을 가진 신경망 구현하기\n",
        "\n",
        " - SingleLayer 클래스의 은닉층 부분의 계산을 제외하면 대부분 비슷한 기능\n",
        " - -> SingleLayer 클래스를 상속, DualLayer 클래스를 만들고 필요한 메서드만 재정의\n",
        "\n",
        " "
      ]
    },
    {
      "cell_type": "code",
      "metadata": {
        "id": "MVkBRSNtiK9T"
      },
      "source": [
        "## 1. SingleLayer 클래스를 상속한 DualLayer 클래스 만들기\n",
        "class DualLayer(SingleLayer):\n",
        "\n",
        "  def __init__(self, units = 10, learning_rate = 0.1, l1 = 0, l2 = 0):\n",
        "    self.units = units        # 은닉층의 뉴런 개수\n",
        "    self.w1 = None            # 은닉층의 가중치\n",
        "    self.b1 = None            # 은닉층의 절편\n",
        "    self.w2 = None            # 출력층의 가중치\n",
        "    self.b2 = None            # 출력층의 절편\n",
        "    self.a1 = None            # 은닉층의 활성화 출력 (역방향 계산에 사용)\n",
        "    self.losses = []          # 훈련 손실\n",
        "    self.val_losses = []      # 검증 손실\n",
        "    self.lr = learning_rate   # 학습률\n",
        "    self.l1 = l1              # L1 손실 하이퍼파라미터\n",
        "    self.l2 = l2              # L2 손실 하이퍼파라미터\n",
        "\n",
        "  def forpass(self,x):\n",
        "    z1 = np.dot(x,self.w1) + self.b1        # 첫 번째 층의 선형식을 계산한다.\n",
        "    self.a1 = self.activation(z1)           # 활성화 함수를 적용한다. (SingleLayer로 부터 상속받음)\n",
        "    z2 = np.dot(self.a1,self.w2) + self.b2  # 두 번째 층의 선형식을 계산한다.\n",
        "    return z2\n",
        "\n",
        "  # - 모델 훈련에서 오차를 역전파하는 역할을 한다.\n",
        "  def backprop(self, x, err): \n",
        "    m = len(x)        # 샘플의 개수\n",
        "    ## 출력층의 가중치와 절편에 대한 그레이디언트를 계산한다.\n",
        "    # 참고, err: (참값과 예측값의 차이)\n",
        "    w2_grad = np.dot(self.a1.T,err) / m\n",
        "    b2_grad = np.sum(err) / m\n",
        "\n",
        "    ## 시그모이드 함수까지 그레이디언트를 계산한다.\n",
        "    err_to_hidden = np.dot(err,self.w2.T) * self.a1 * (1 - self.a1)\n",
        "\n",
        "    ## 은닉층의 가중치와 절편에 대한 그레이디언트를 계산한다.\n",
        "    w1_grad = np.dot(x.T, err_to_hidden) / m\n",
        "    b1_grad = np.sum(err_to_hidden,axis = 0) / m\n",
        "    return w1_grad, b1_grad, w2_grad, b2_grad\n",
        "\n",
        "  ## fit() 메서드를 위한 가중치 초기화 부분\n",
        "  def inint_weights(self, n_features):\n",
        "    self.w1 = np.ones((n_features, self.units)) # (특성개수 x 은닉층의 크기)\n",
        "    self.b1 = np.zeros(self.units)              # (은닉층의 크기)\n",
        "    self.w2 = np.ones((self.units,1))           # (은닉층의 크기 x 1)\n",
        "    self.b2 = 0\n",
        "  \n",
        "  ## fit () 메서드\n",
        "  def fit(self, x, y, epochs = 100, x_val = None, y_val = None):\n",
        "    y = y.reshape(-1,1)\n",
        "    y_val = y_val.reshape(-1,1)\n",
        "    m = len(x)\n",
        "    self.inint_weights(x.shape[1])\n",
        "    # epochs 만큼 반복\n",
        "    for i in range(epochs):\n",
        "      a = self.training(x, y, m)\n",
        "      # 안전한 로그 계산을 위해 클리핑한다.\n",
        "      a = np.clip(a, 1e-10, 1-1e-10)\n",
        "      # 로그 손실과 규제 손실을 더하여 리스트에 추가한다.\n",
        "      loss = np.sum(-(y*np.log(a) + (1-y) * np.log(1-a)))\n",
        "      self.losses.append((loss + self.reg_loss())/m)\n",
        "      # 검증 세트에 대한 손실을 계산한다.\n",
        "      self.update_val_loss(x_val,y_val)\n",
        "    \n",
        "  ## Training\n",
        "  def training(self, x, y, m):\n",
        "    z = self.forpass(x)         # 정방향 계산\n",
        "    a = self.activation(z)      # 활성화 함수\n",
        "    err = -(y-a)                # 오차 계산\n",
        "    # 오차를 역전파하여 그레이디언트를 계산한다.\n",
        "    w1_grad, b1_grad, w2_grad, b2_grad = self.backprop(x,err)\n",
        "    # 그레이디언트에서 페널티 항의 미분값을 뺀다.\n",
        "    w1_grad += (self.l1 * np.sign(self.w1) + self.l2 * self.w1) / m\n",
        "    w2_grad += (self.l1 * np.sign(self.w2) + self.l2 * self.w2) / m\n",
        "    # 은닉층의 가중치와 절편을 업데이트 한다.\n",
        "    self.w1 -= self.lr * w1_grad\n",
        "    self.b1 -= self.lr * b1_grad\n",
        "    # 출력층의 가중치와 절편을 업데이트 한다.\n",
        "    self.w2 -= self.lr * w2_grad\n",
        "    self.b2 -= self.lr * b2_grad\n",
        "    return a\n",
        "\n",
        "  ## reg_loss : 은닉층과 출력층의 가중치에 대한 L1, L2 손실을 계산\n",
        "  def reg_loss(self):\n",
        "    # 은닉층과 출력층의 가중치에 규제를 적용한다.\n",
        "    return self.l1 * (np.sum(np.abs(self.w1)) + np.sum(np.abs(self.w2))) + self.l2 / 2 * (np.sum(self.w1**2) + np.sum(self.w2**2))\n",
        "\n"
      ],
      "execution_count": null,
      "outputs": []
    },
    {
      "cell_type": "markdown",
      "metadata": {
        "id": "3aGWopPrrPdL"
      },
      "source": [
        "## 모델 훈련하기"
      ]
    },
    {
      "cell_type": "code",
      "metadata": {
        "id": "JAO47Xtvr2fY"
      },
      "source": [
        "import numpy as np\n",
        "import matplotlib.pyplot as plt"
      ],
      "execution_count": null,
      "outputs": []
    },
    {
      "cell_type": "code",
      "metadata": {
        "id": "4RKBFogDr3jo"
      },
      "source": [
        "#  위스콘신 유방암 데이터 세트를 훈련, 검증, 테스트 세트로 나누고 데이터 살펴보기\n",
        "from sklearn.datasets import load_breast_cancer\n",
        "from sklearn.model_selection import train_test_split\n",
        "\n",
        "cancer = load_breast_cancer()\n",
        "x = cancer.data\n",
        "y = cancer.target\n",
        "x_train_all, x_test, y_train_all, y_test = train_test_split(x,y,stratify = y, test_size = 0.2, random_state = 42)\n",
        "x_train, x_val, y_train, y_val = train_test_split(x_train_all, y_train_all, stratify = y_train_all, test_size = 0.2, random_state = 42)"
      ],
      "execution_count": null,
      "outputs": []
    },
    {
      "cell_type": "code",
      "metadata": {
        "id": "mxi7X2jxr_um"
      },
      "source": [
        "## 훈련 데이터 표준화 전처리하기\n",
        "# 데이터 세트의 특성을 -> 평균 0, 표준편차 1이 되도록 변환\n",
        "from sklearn.preprocessing import StandardScaler\n",
        "scaler = StandardScaler()\n",
        "scaler.fit(x_train)\n",
        "\n",
        "# 훈련 세트, 검증 세트를 표준화 한다.\n",
        "x_train_scaled = scaler.transform(x_train)\n",
        "x_val_scaled = scaler.transform(x_val)"
      ],
      "execution_count": null,
      "outputs": []
    },
    {
      "cell_type": "code",
      "metadata": {
        "colab": {
          "base_uri": "https://localhost:8080/"
        },
        "id": "SJqjgbMgrOGK",
        "outputId": "ace7483e-a7bd-498a-dd77-dd3d6eff7529"
      },
      "source": [
        "## 1. 다층 신경망 모델 훈련하기\n",
        "# L2 규제는 0.01, epochs는 20,000 / 평가 점수는 SingleLayer 클래스로 훈련한 모델(L2: 0.01, 에포크 10,000과 동일)\n",
        "# (평가 점수는 동일 / 왜냐하면 문제가 간단, 문제가 복잡했으면 DualLayer 평가 점수가 더 좋았을 것)\n",
        "\n",
        "dual_layer = DualLayer(l2 = 0.01)\n",
        "dual_layer.fit(x_train_scaled, y_train, x_val = x_val_scaled, y_val = y_val, epochs = 20000)\n",
        "dual_layer.score(x_val_scaled, y_val)"
      ],
      "execution_count": null,
      "outputs": [
        {
          "output_type": "execute_result",
          "data": {
            "text/plain": [
              "0.978021978021978"
            ]
          },
          "metadata": {
            "tags": []
          },
          "execution_count": 10
        }
      ]
    },
    {
      "cell_type": "code",
      "metadata": {
        "colab": {
          "base_uri": "https://localhost:8080/",
          "height": 283
        },
        "id": "I5wSq1q8rqdD",
        "outputId": "f59b5b44-2c09-4482-99bc-17ac9d124e1e"
      },
      "source": [
        "## 2. 훈련 손실과 검증 손실 그래프 분석하기\n",
        "# 훈련 손실 그래프는 훈련 데이터로 손실 함수의 최솟값을 찾아가는 과정\n",
        "# 검증 손실 그래프는 검증 데이터로 손실 함수의 최솟값을 찾아가는 과정\n",
        "plt.ylim(0,0.3)\n",
        "plt.plot(dual_layer.losses)\n",
        "plt.plot(dual_layer.val_losses)\n",
        "plt.ylabel('loss')\n",
        "plt.xlabel('epoch')\n",
        "plt.legend(['trian_loss','val_loss'])\n",
        "plt.show()"
      ],
      "execution_count": null,
      "outputs": [
        {
          "output_type": "display_data",
          "data": {
            "image/png": "[encoded data removed]",
            "text/plain": [
              "<Figure size 432x288 with 1 Axes>"
            ]
          },
          "metadata": {
            "tags": [],
            "needs_background": "light"
          }
        }
      ]
    },
    {
      "cell_type": "markdown",
      "metadata": {
        "id": "N0BoFs8FtvNk"
      },
      "source": [
        "- 위 그래프를 보면, SingLayer 보다 손실 그래프가 천천히 감소\n",
        "\n",
        "- 이것은 -> 가중치의 개수가 훨씬 많아져서 학습하는 데 시간이 오래 걸림\n",
        "\n",
        "- 가령, 위슨콘신 유방암 데이터의 특성은 30개 --> SingleLayer 클래스는 가중치 30가와 절편 1개\n",
        "\n",
        "- DualLayer 클래스는 은닉층의 뉴런이 10개 --> 30 x 10 개의 가중치와 10개의 절편이 필요함 // 출력층 역시 10개 가중치와 1개의 절편이 필요.. --> 총 321개의 가중치를 학습해야함"
      ]
    },
    {
      "cell_type": "markdown",
      "metadata": {
        "id": "HA36Gn1YuJly"
      },
      "source": [
        "## 가중치 초기화 개선하기\n",
        "\n",
        "- 손실 그래프를 보니 초기 손실값이 감소하는 곡선이 매끄럽지 않음\n",
        "\n",
        "- 아마도 손실 함수가 감소하는 방향을 올바르게 찾는 데 시간이 많이 소요된 듯.\n",
        "\n",
        "- 지금까지는 가중치를 1로 놓고 훈련하였다.\n",
        "\n",
        "- 이번에는 정규 분포를 따르는 무작위 수(random.normal)로 가중치를 초기화해보자."
      ]
    },
    {
      "cell_type": "code",
      "metadata": {
        "id": "hQ7bWIcHtjrs"
      },
      "source": [
        "class RandomInitNetwork(DualLayer):\n",
        "\n",
        "  def init_weights(self, n_features):\n",
        "    np.random.seed(42)\n",
        "    self.w1 = np.random.normal(0,1,(n_features,self.units)) # n_featrue: 특성개수 / units: 은닉층의 크기\n",
        "    self.b1 = np.zeros(self.units)\n",
        "    self.w2 = np.random.normal(0,1,(self.units,1)) # units: 은닉층 크기\n",
        "    self.b2 = 0\n",
        "    "
      ],
      "execution_count": null,
      "outputs": []
    },
    {
      "cell_type": "code",
      "metadata": {
        "colab": {
          "base_uri": "https://localhost:8080/",
          "height": 279
        },
        "id": "b9nvAuyDvBfU",
        "outputId": "eb817209-ee02-4540-d48d-ff0a654b57ad"
      },
      "source": [
        "random_init_net = RandomInitNetwork(l2 = 0.01)\n",
        "random_init_net.fit(x_train_scaled, y_train, x_val = x_val_scaled, y_val = y_val, epochs = 500)\n",
        "#plt.ylim(0,0.3)\n",
        "plt.plot(random_init_net.losses)\n",
        "plt.plot(random_init_net.val_losses)\n",
        "plt.ylabel('loss')\n",
        "plt.xlabel('epochs')\n",
        "plt.legend(['train_loss','val_loss'])\n",
        "plt.show()"
      ],
      "execution_count": null,
      "outputs": [
        {
          "output_type": "display_data",
          "data": {
            "image/png": "[encoded data removed]",
            "text/plain": [
              "<Figure size 432x288 with 1 Axes>"
            ]
          },
          "metadata": {
            "tags": [],
            "needs_background": "light"
          }
        }
      ]
    },
    {
      "cell_type": "markdown",
      "metadata": {
        "id": "dcEev1-hvyP3"
      },
      "source": [
        "# 06-3 미니 배치를 사용하여 모델을 훈련한다.\n",
        "\n",
        "## 실전에서 아주 많은 양의 데이터를 배치 경사 하강법으로 하면 어렵다..\n",
        "\n",
        "## 확률적 경사 하강법과 배치 경사 하강법의 장점을 절충한 미니 배치 경사 하강법을 사용해 보자.\n",
        "\n",
        "- RandomInitNetwork 클래스를 사용하여 미니 배치 경사 하강법 구현"
      ]
    },
    {
      "cell_type": "markdown",
      "metadata": {
        "id": "u8eagofOwDfI"
      },
      "source": [
        "## 미니 배치 경사 하강법\n",
        "\n",
        "- 에포크마다 전체 데이터가 아닌 조금씩 나누어 정방향 계산 수행 / 그레이디언트를 구하여 가중치를 업데이트\n",
        "\n",
        "- 미니 배치 경사 하강법은 작게 나눈 미니 배치만큼 가중치를 업데이트 한다.\n",
        "\n",
        "- 미니 배치의 크기는 보통 16,32,64 등 2의 배수를 활용\n",
        "\n",
        "- 미니 배치의 크기가 작으면 확률적 경사 하강법처럼 손실 함수의 전역 최솟값을 찾아 가는 과정이 크게 흔들리는 모양일 것이다.\n",
        "\n",
        "- 반대로 미니 매치 크기가 충분히 크면 배치 경사 하강법처럼 손실 함수의 전역 최솟값을 안정적으로 찾아갈 것임\n",
        "\n",
        "- 미니 배치도 하이퍼파라미터 이고, 튜닝의 대상이다.\n",
        "\n"
      ]
    },
    {
      "cell_type": "code",
      "metadata": {
        "id": "VuC53-53w-Hh"
      },
      "source": [
        "## 1. SingleLayer 클래스를 상속한 DualLayer 클래스 만들기\n",
        "class DualLayer(SingleLayer):\n",
        "\n",
        "  def __init__(self, units = 10, learning_rate = 0.1, l1 = 0, l2 = 0):\n",
        "    self.units = units        # 은닉층의 뉴런 개수\n",
        "    self.w1 = None            # 은닉층의 가중치\n",
        "    self.b1 = None            # 은닉층의 절편\n",
        "    self.w2 = None            # 출력층의 가중치\n",
        "    self.b2 = None            # 출력층의 절편\n",
        "    self.a1 = None            # 은닉층의 활성화 출력 (역방향 계산에 사용)\n",
        "    self.losses = []          # 훈련 손실\n",
        "    self.val_losses = []      # 검증 손실\n",
        "    self.lr = learning_rate   # 학습률\n",
        "    self.l1 = l1              # L1 손실 하이퍼파라미터\n",
        "    self.l2 = l2              # L2 손실 하이퍼파라미터\n",
        "\n",
        "  def forpass(self,x):\n",
        "    z1 = np.dot(x,self.w1) + self.b1        # 첫 번째 층의 선형식을 계산한다.\n",
        "    self.a1 = self.activation(z1)           # 활성화 함수를 적용한다. (SingleLayer로 부터 상속받음)\n",
        "    z2 = np.dot(self.a1,self.w2) + self.b2  # 두 번째 층의 선형식을 계산한다.\n",
        "    return z2\n",
        "\n",
        "  # - 모델 훈련에서 오차를 역전파하는 역할을 한다.\n",
        "  def backprop(self, x, err): \n",
        "    m = len(x)        # 샘플의 개수\n",
        "    ## 출력층의 가중치와 절편에 대한 그레이디언트를 계산한다.\n",
        "    # 참고, err: (참값과 예측값의 차이)\n",
        "    w2_grad = np.dot(self.a1.T,err) / m\n",
        "    b2_grad = np.sum(err) / m\n",
        "\n",
        "    ## 시그모이드 함수까지 그레이디언트를 계산한다.\n",
        "    err_to_hidden = np.dot(err,self.w2.T) * self.a1 * (1 - self.a1)\n",
        "\n",
        "    ## 은닉층의 가중치와 절편에 대한 그레이디언트를 계산한다.\n",
        "    w1_grad = np.dot(x.T, err_to_hidden) / m\n",
        "    b1_grad = np.sum(err_to_hidden,axis = 0) / m\n",
        "    return w1_grad, b1_grad, w2_grad, b2_grad\n",
        "\n",
        "  ## fit() 메서드를 위한 가중치 초기화 부분\n",
        "  def inint_weights(self, n_features):\n",
        "    self.w1 = np.ones((n_features, self.units)) # (특성개수 x 은닉층의 크기)\n",
        "    self.b1 = np.zeros(self.units)              # (은닉층의 크기)\n",
        "    self.w2 = np.ones((self.units,1))           # (은닉층의 크기 x 1)\n",
        "    self.b2 = 0\n",
        "  \n",
        "  ## fit () 메서드\n",
        "  def fit(self, x, y, epochs = 100, x_val = None, y_val = None):\n",
        "    y = y.reshape(-1,1)\n",
        "    self.init_weights(x.shape[1]) ## 은닉층과 출력층의 가중치를 초기화한다.\n",
        "    np.random.seed(42)\n",
        "    for i in range(epochs):\n",
        "      loss = 0\n",
        "      # 제너레이터 함수에서 반환한 미니 배치를 순환한다.\n",
        "      for x_batch, y_batch in self.gen_batch(x,y):\n",
        "        y_batch = y_batch.reshape(-1,1)   # 타깃을 열 벡터로 바꾼다.\n",
        "        m = len(x_batch)\n",
        "        a = self.training(x_batch,y_batch,m)\n",
        "        # 클리핑\n",
        "        a = np.clip(a, 1e-10, 1-1e-10)\n",
        "        # 로그 손실과 규제 손실을 더하여 리스트에 추가\n",
        "        loss += np.sum(-(y_batch*np.log(a) + (1-y_batch)*np.log(1-a)))\n",
        "             \n",
        "\n",
        "      self.losses.append((loss + self.reg_loss())/m)\n",
        "      # 검증 세트에 대한 손실을 계산한다.\n",
        "      self.update_val_loss(x_val,y_val)\n",
        "    \n",
        "  ## Training\n",
        "  def training(self, x, y, m):\n",
        "    z = self.forpass(x)         # 정방향 계산\n",
        "    a = self.activation(z)      # 활성화 함수\n",
        "    err = -(y-a)                # 오차 계산\n",
        "    # 오차를 역전파하여 그레이디언트를 계산한다.\n",
        "    w1_grad, b1_grad, w2_grad, b2_grad = self.backprop(x,err)\n",
        "    # 그레이디언트에서 페널티 항의 미분값을 뺀다.\n",
        "    w1_grad += (self.l1 * np.sign(self.w1) + self.l2 * self.w1) / m\n",
        "    w2_grad += (self.l1 * np.sign(self.w2) + self.l2 * self.w2) / m\n",
        "    # 은닉층의 가중치와 절편을 업데이트 한다.\n",
        "    self.w1 -= self.lr * w1_grad\n",
        "    self.b1 -= self.lr * b1_grad\n",
        "    # 출력층의 가중치와 절편을 업데이트 한다.\n",
        "    self.w2 -= self.lr * w2_grad\n",
        "    self.b2 -= self.lr * b2_grad\n",
        "    return a\n",
        "\n",
        "  ## reg_loss : 은닉층과 출력층의 가중치에 대한 L1, L2 손실을 계산\n",
        "  def reg_loss(self):\n",
        "    # 은닉층과 출력층의 가중치에 규제를 적용한다.\n",
        "    return self.l1 * (np.sum(np.abs(self.w1)) + np.sum(np.abs(self.w2))) + self.l2 / 2 * (np.sum(self.w1**2) + np.sum(self.w2**2))\n",
        "\n",
        "\n",
        "  ### 파이썬 제너레이터 (generator)로 구현 --> 순차적으로 데이터에 접근할 수 있는 반복 가능한 객체(iterator)를 반환\n",
        "      # 제너레이터 사용하면 명시적으로 리스트를 만들지 않으면서 필요한 만큼 데이터 추출 가능\n",
        "      #  yiel 문을 사용한다.\n",
        "  def gen_batch(self, x, y):\n",
        "    # gen_batch()는 batch_size 만큼씩 x,y 배열을 건너뛰며 미니 배치를 반환한다.\n",
        "    # 미니 배치가 똑같은 순서로 반복되지 않도록 에포크마다 훈련 데이터 인덱스를 섞는다.\n",
        "    length = len(x)\n",
        "    bins = length // self.batch_size # 미니 배치 횟수\n",
        "    if length % self.batch_size:\n",
        "      bins+=1 # 나누어 떨어지지 않을 때\n",
        "      indexes = np.random.permutation(np.arange(len(x))) # 인덱스를 섞는다.\n",
        "      x = x[indexes]\n",
        "      y = y[indexes]\n",
        "      for i in range(bins):\n",
        "        start = self.batch_size * i\n",
        "        end = self.batch_size * (i+1)\n",
        "        yield x[start:end], y[start:end]  # batch_size 만큼 슬라이싱하여 반환\n"
      ],
      "execution_count": null,
      "outputs": []
    },
    {
      "cell_type": "code",
      "metadata": {
        "id": "4BuEV3TavVar"
      },
      "source": [
        "## 1. MinibatchNetwork 클래스 구현하기\n",
        "class MinibatchNetwork(RandomInitNetwork):\n",
        "\n",
        "  def __init__(self, units = 10, batch_size = 32, learning_rate = 0.1, l1 = 0, l2 = 0):\n",
        "    super().__init__(units, learning_rate, l1, l2)  # super 클래스를 이용하여 부모 클래스를 참조한다.\n",
        "    self.batch_size = batch_size  # 배치 크기\n",
        "\n",
        "    "
      ],
      "execution_count": null,
      "outputs": []
    },
    {
      "cell_type": "code",
      "metadata": {
        "colab": {
          "base_uri": "https://localhost:8080/",
          "height": 279
        },
        "id": "Bq2Mq7aPyjBK",
        "outputId": "036f8300-634d-4d9d-bc4b-6b74bc6fcc65"
      },
      "source": [
        "## batch size 32 / 128 비교해보자.\n",
        "minibatch_net = MinibatchNetwork(l2=0.01, batch_size = 32)\n",
        "minibatch_net.fit(x_train_scaled, y_train, x_val = x_val_scaled, y_val = y_val, epochs = 500)\n",
        "minibatch_net.score(x_val_scaled,y_val)\n",
        "\n",
        "plt.plot(minibatch_net.losses)\n",
        "plt.plot(minibatch_net.val_losses)\n",
        "plt.ylabel('loss')\n",
        "plt.xlabel('iteration')\n",
        "plt.legend(['train_loss','val_loss'])\n",
        "plt.show()"
      ],
      "execution_count": null,
      "outputs": [
        {
          "output_type": "display_data",
          "data": {
            "image/png": "[encoded data removed]",
            "text/plain": [
              "<Figure size 432x288 with 1 Axes>"
            ]
          },
          "metadata": {
            "tags": [],
            "needs_background": "light"
          }
        }
      ]
    },
    {
      "cell_type": "code",
      "metadata": {
        "colab": {
          "base_uri": "https://localhost:8080/",
          "height": 279
        },
        "id": "hoy1L6lXzFjL",
        "outputId": "c6541abb-fb6c-4c06-af24-f8180d8b9c8e"
      },
      "source": [
        "## batch size 32 / 128 비교해보자.\n",
        "minibatch_net = MinibatchNetwork(l2=0.01, batch_size = 128)\n",
        "minibatch_net.fit(x_train_scaled, y_train, x_val = x_val_scaled, y_val = y_val, epochs = 500)\n",
        "minibatch_net.score(x_val_scaled,y_val)\n",
        "\n",
        "plt.plot(minibatch_net.losses)\n",
        "plt.plot(minibatch_net.val_losses)\n",
        "plt.ylabel('loss')\n",
        "plt.xlabel('iteration')\n",
        "plt.legend(['train_loss','val_loss'])\n",
        "plt.show()"
      ],
      "execution_count": null,
      "outputs": [
        {
          "output_type": "display_data",
          "data": {
            "image/png": "[encoded data removed]",
            "text/plain": [
              "<Figure size 432x288 with 1 Axes>"
            ]
          },
          "metadata": {
            "tags": [],
            "needs_background": "light"
          }
        }
      ]
    },
    {
      "cell_type": "code",
      "metadata": {
        "colab": {
          "base_uri": "https://localhost:8080/",
          "height": 279
        },
        "id": "mgt7S1BpzJ_5",
        "outputId": "e12c0b09-b6df-4907-c8db-488188c50b2d"
      },
      "source": [
        "## batch size  512 비교해보자.\n",
        "minibatch_net = MinibatchNetwork(l2=0.01, batch_size = 512)\n",
        "minibatch_net.fit(x_train_scaled, y_train, x_val = x_val_scaled, y_val = y_val, epochs = 500)\n",
        "minibatch_net.score(x_val_scaled,y_val)\n",
        "\n",
        "plt.plot(minibatch_net.losses)\n",
        "plt.plot(minibatch_net.val_losses)\n",
        "plt.ylabel('loss')\n",
        "plt.xlabel('iteration')\n",
        "plt.legend(['train_loss','val_loss'])\n",
        "plt.show()"
      ],
      "execution_count": null,
      "outputs": [
        {
          "output_type": "display_data",
          "data": {
            "image/png": "[encoded data removed]",
            "text/plain": [
              "<Figure size 432x288 with 1 Axes>"
            ]
          },
          "metadata": {
            "tags": [],
            "needs_background": "light"
          }
        }
      ]
    },
    {
      "cell_type": "markdown",
      "metadata": {
        "id": "9SsVlCkYzcvh"
      },
      "source": [
        "## 사이킷런 사용하여 다층 신경망을 훈련해 보자\n",
        "\n",
        "- 사이킷런 : sklearn.neural_network\n",
        "\n",
        "- 분류 작업을 위한 MLPClassifier\n",
        "\n",
        "- 회귀 작업을 위한 MLPRegressor\n",
        "\n",
        "- MLP: Multi-Layer Perceptron"
      ]
    },
    {
      "cell_type": "code",
      "metadata": {
        "id": "kdN9zLtXzPdp"
      },
      "source": [
        "# 1. MLPClassifier의 객체 만들기\n",
        "from sklearn.neural_network import MLPClassifier\n",
        "mlp = MLPClassifier(hidden_layer_sizes = (10, ), activation = 'logistic', solver = 'sgd', alpha = 0.01, batch_size = 32, learning_rate_init = 0.1, max_iter = 500)"
      ],
      "execution_count": null,
      "outputs": []
    },
    {
      "cell_type": "markdown",
      "metadata": {
        "id": "1WzNFtSP0SbM"
      },
      "source": [
        "hidden_layer_sizes : 은닉층의 크기를 정의 (은닉층의 수, 뉴런의 수)\n",
        "(10개의 뉴런을 가진 2개의 은닉층 -> hidden_layer_sizes = (10,10) )\n",
        "\n",
        "activation : 활성화 함수\n",
        "\n",
        "경사 하강법 알고리즘의 종류를 지정 : solver // sgd : 확률적 경사 하강법\n",
        "\n",
        "alpha : l2 규제 (l1 규제 지원하지 않음 <-효과 미미)\n",
        "\n"
      ]
    },
    {
      "cell_type": "code",
      "metadata": {
        "colab": {
          "base_uri": "https://localhost:8080/"
        },
        "id": "uaVPxp28z-wS",
        "outputId": "bf7fc940-30eb-41f1-e565-dc6235e7de4f"
      },
      "source": [
        "# 2. 모델 훈련\n",
        "mlp.fit(x_train_scaled,y_train)\n",
        "mlp.score(x_val_scaled,y_val)"
      ],
      "execution_count": null,
      "outputs": [
        {
          "output_type": "execute_result",
          "data": {
            "text/plain": [
              "0.978021978021978"
            ]
          },
          "metadata": {
            "tags": []
          },
          "execution_count": 26
        }
      ]
    },
    {
      "cell_type": "code",
      "metadata": {
        "id": "z7ufP-xo03NS"
      },
      "source": [
        ""
      ],
      "execution_count": null,
      "outputs": []
    }
  ]
}